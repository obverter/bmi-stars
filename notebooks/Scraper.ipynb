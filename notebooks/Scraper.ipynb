{
 "cells": [
  {
   "cell_type": "code",
   "execution_count": 468,
   "metadata": {},
   "outputs": [],
   "source": [
    "from bs4 import BeautifulSoup\n",
    "from pybaseball import playerid_lookup\n",
    "import json\n",
    "import lxml\n",
    "import pandas as pd\n",
    "import re\n",
    "import requests\n",
    "from time import sleep"
   ]
  },
  {
   "cell_type": "markdown",
   "metadata": {},
   "source": [
    "# Scraping Each Player's Meanest Season\n",
    "We're going to initialize a list of all of our players and then run each player through a scraper to pull a set of stats that describes the numbers we could expect out of them for a full, 162-game season.\n",
    "\n",
    "For batters, this is easy. Here's the formula we can use for each stat to arrive at an expected value for that stat for a full 162-game season: \n",
    "\n",
    "```\n",
    "Career games played / 162 = [[FACTOR]]\n",
    "[[STAT]] / [[FACTOR]] = expectation\n",
    "```\n",
    "\n",
    "For pitchers, this is a little more complicated, because pitchers don't play every game. But our friends over at Baseball Reference **(BBREF)** have attempted to tackle this by treating each complete pitcher-season as:\n",
    "\n",
    "```\n",
    "games_pitched = X\n",
    "games_started = X * 2\n",
    "games_pitched + games_started = 68\n",
    "```\n",
    "\n",
    "So for a pitcher, either 34 starts or 68 relief appearances is worth one pitcher_season, and one pitcher_season is pegged to a value of 68. Their rationale is that, across history, full-time starters average to around 34 starts per year, and full-time relievers average about 68 relief appearances per year.\n",
    "\n",
    "But some pitchers appear as both starters and relievers. Hence the need for normalization.\n",
    "\n",
    "Thankfully, our friends at Baseball Reference have done all of these calculations for us, and they're available to view for free, with no login necessary.\n",
    "\n",
    "Which mean we can scrape the hell out of it.\n",
    "\n",
    "## Let's initialize a list of our players"
   ]
  },
  {
   "cell_type": "code",
   "execution_count": 469,
   "metadata": {},
   "outputs": [],
   "source": [
    "names = [\n",
    "    'bartolo colon',\n",
    "    'fernando rodney',\n",
    "    'reyes moronta',\n",
    "    'josé mijares',\n",
    "    'tom healey',\n",
    "    'jean machi',\n",
    "    'fernando rodney',\n",
    "    'angel castro',\n",
    "    'edwar colina',\n",
    "    'framber valdez',\n",
    "    'andrew carignan',\n",
    "    'keegan akin',\n",
    "    'julio mateo',\n",
    "    'enrique gonzalez',\n",
    "    'alejandro kirk',\n",
    "    'brayan pena',\n",
    "    'pablo sandoval',\n",
    "    'tyler white',\n",
    "    'josh phegley',\n",
    "    'donovan solano',\n",
    "    'alberto callaspo',\n",
    "    'miguel tejada',\n",
    "    'josh naylor',\n",
    "    'dayán viciedo',\n",
    "    'harold ramirez',\n",
    "    'willians astudillo',\n",
    "    'bob fothergill'\n",
    "]\n"
   ]
  },
  {
   "cell_type": "markdown",
   "metadata": {},
   "source": [
    "In order to scrape Baseball Reference, we'll need the unique ID that BBREF has given every player for whom they have a record.\n",
    "\n",
    "Thankfully, the PyBaseball library has a module that'll dig out this ID for us if we feed it our player names:\n",
    "\n",
    "```python\n",
    "\n",
    "from pybaseball import playerid_lookup\n",
    "\n",
    "playerid_lookup('last', 'first', fuzzy=True)['key_bbref'][0]\n",
    "\n",
    "# e.g.:\n",
    "\n",
    "\n",
    ">>> Bartolo Colon as ('colon', 'bartolo')\n",
    "\n",
    "'colonba01'\n",
    "```\n",
    "\n",
    "But we can make ourselves a little loop that will take our list of player names, spin them around, run them through player_lookup, and return a cute little dataframe with everything we need.\n",
    "\n",
    "And then we party."
   ]
  },
  {
   "cell_type": "code",
   "execution_count": 470,
   "metadata": {},
   "outputs": [
    {
     "name": "stdout",
     "output_type": "stream",
     "text": [
      "No identically matched names found! Returning the 5 most similar names.\n"
     ]
    }
   ],
   "source": [
    "names_and_ids = []\n",
    "count = 0\n",
    "for name in range(len(names)):\n",
    "    name = names[count].split()\n",
    "    name.append(playerid_lookup(name[1], name[0], fuzzy=True)[\"key_bbref\"][0])\n",
    "    names_and_ids.append(name)\n",
    "    count += 1\n",
    "    sleep(0.25)\n",
    "huskies = pd.DataFrame(names_and_ids, columns=[\"first\", \"last\", \"key_bbref\"])"
   ]
  },
  {
   "cell_type": "markdown",
   "metadata": {},
   "source": [
    "## Now we run everything through our scraper"
   ]
  },
  {
   "cell_type": "code",
   "execution_count": 474,
   "metadata": {},
   "outputs": [
    {
     "data": {
      "text/plain": [
       "0     colonba01\n",
       "1     rodnefe01\n",
       "2     moronre01\n",
       "3     mijarjo01\n",
       "4     healeto01\n",
       "5     machije01\n",
       "6     rodnefe01\n",
       "7     castran01\n",
       "8     colined01\n",
       "9     valdefr01\n",
       "10    carigan01\n",
       "11     akinke01\n",
       "12    mateoju01\n",
       "13    gonzaen01\n",
       "14     kirkal01\n",
       "15     penabr01\n",
       "16    sandopa01\n",
       "17    whitety01\n",
       "18    phegljo01\n",
       "19    solando01\n",
       "20    callaal01\n",
       "21    tejadmi01\n",
       "22    naylojo01\n",
       "23    vicieda01\n",
       "24    ramirha02\n",
       "25    astudwi01\n",
       "26    fothebo01\n",
       "Name: key_bbref, dtype: object"
      ]
     },
     "execution_count": 474,
     "metadata": {},
     "output_type": "execute_result"
    }
   ],
   "source": [
    "huskies['key_bbref']"
   ]
  },
  {
   "cell_type": "code",
   "execution_count": 476,
   "metadata": {},
   "outputs": [
    {
     "name": "stdout",
     "output_type": "stream",
     "text": [
      "colonba01\n",
      "rodnefe01\n",
      "moronre01\n",
      "mijarjo01\n",
      "healeto01\n",
      "machije01\n",
      "rodnefe01\n",
      "castran01\n",
      "colined01\n",
      "valdefr01\n",
      "carigan01\n",
      "akinke01\n",
      "mateoju01\n",
      "gonzaen01\n",
      "kirkal01\n",
      "penabr01\n",
      "sandopa01\n",
      "whitety01\n",
      "phegljo01\n",
      "solando01\n",
      "callaal01\n",
      "tejadmi01\n",
      "naylojo01\n",
      "vicieda01\n",
      "ramirha02\n",
      "astudwi01\n",
      "fothebo01\n"
     ]
    }
   ],
   "source": [
    "targets = []\n",
    "count = 0\n",
    "for player in range(len(huskies['key_bbref'])):\n",
    "    id = huskies['key_bbref'][count]\n",
    "    targets.append(id)\n",
    "    count += 1"
   ]
  },
  {
   "cell_type": "code",
   "execution_count": 490,
   "metadata": {},
   "outputs": [
    {
     "name": "stdout",
     "output_type": "stream",
     "text": [
      "https://www.baseball-reference.com/players/colonba01.shtml\n",
      "https://www.baseball-reference.com/players/rodnefe01.shtml\n",
      "https://www.baseball-reference.com/players/moronre01.shtml\n",
      "https://www.baseball-reference.com/players/mijarjo01.shtml\n",
      "https://www.baseball-reference.com/players/healeto01.shtml\n",
      "https://www.baseball-reference.com/players/machije01.shtml\n",
      "https://www.baseball-reference.com/players/rodnefe01.shtml\n",
      "https://www.baseball-reference.com/players/castran01.shtml\n",
      "https://www.baseball-reference.com/players/colined01.shtml\n",
      "https://www.baseball-reference.com/players/valdefr01.shtml\n",
      "https://www.baseball-reference.com/players/carigan01.shtml\n",
      "https://www.baseball-reference.com/players/akinke01.shtml\n",
      "https://www.baseball-reference.com/players/mateoju01.shtml\n",
      "https://www.baseball-reference.com/players/gonzaen01.shtml\n",
      "https://www.baseball-reference.com/players/kirkal01.shtml\n",
      "https://www.baseball-reference.com/players/penabr01.shtml\n",
      "https://www.baseball-reference.com/players/sandopa01.shtml\n",
      "https://www.baseball-reference.com/players/whitety01.shtml\n",
      "https://www.baseball-reference.com/players/phegljo01.shtml\n",
      "https://www.baseball-reference.com/players/solando01.shtml\n",
      "https://www.baseball-reference.com/players/callaal01.shtml\n",
      "https://www.baseball-reference.com/players/tejadmi01.shtml\n",
      "https://www.baseball-reference.com/players/naylojo01.shtml\n",
      "https://www.baseball-reference.com/players/vicieda01.shtml\n",
      "https://www.baseball-reference.com/players/ramirha02.shtml\n",
      "https://www.baseball-reference.com/players/astudwi01.shtml\n",
      "https://www.baseball-reference.com/players/fothebo01.shtml\n"
     ]
    }
   ],
   "source": [
    "root = \"https://www.baseball-reference.com/players/\"\n",
    "suffix = \".shtml\"\n",
    "count = 0\n",
    "for target in range(len(targets)):\n",
    "    target = targets[count]\n",
    "    query = root + target + suffix\n",
    "    print(query)\n",
    "    response = requests.get(query)\n",
    "    doc = BeautifulSoup(response.text)\n",
    "    page_content = doc.select(\"#pitching_standard > tfoot > tr:nth-child(2) .right\")\n",
    "    # sleep(0.5)\n",
    "    # ##\n",
    "    \n",
    "    # metrics = []\n",
    "    # vals = []\n",
    "    # for row in range(len(page_content)):\n",
    "    #     metric = []\n",
    "    #     val = []\n",
    "    #     stat = []\n",
    "    #     metrics.append(page_content[row]['data-stat'])\n",
    "    #     vals.append(page_content[row].text)\n",
    "    # print(metrics)\n",
    "    # print(vals)\n",
    "\n",
    "\n",
    "    # stats = pd.DataFrame({\n",
    "    #     'metrics': metrics,\n",
    "    #     'values': vals\n",
    "    # })\n",
    "    # sleep(.5)\n",
    "    # count += 1\n",
    "    # stats.set_index('metrics').T\n",
    "\n"
   ]
  },
  {
   "cell_type": "code",
   "execution_count": 482,
   "metadata": {},
   "outputs": [
    {
     "data": {
      "text/html": [
       "<div>\n",
       "<style scoped>\n",
       "    .dataframe tbody tr th:only-of-type {\n",
       "        vertical-align: middle;\n",
       "    }\n",
       "\n",
       "    .dataframe tbody tr th {\n",
       "        vertical-align: top;\n",
       "    }\n",
       "\n",
       "    .dataframe thead th {\n",
       "        text-align: right;\n",
       "    }\n",
       "</style>\n",
       "<table border=\"1\" class=\"dataframe\">\n",
       "  <thead>\n",
       "    <tr style=\"text-align: right;\">\n",
       "      <th></th>\n",
       "      <th>metrics</th>\n",
       "      <th>values</th>\n",
       "    </tr>\n",
       "  </thead>\n",
       "  <tbody>\n",
       "  </tbody>\n",
       "</table>\n",
       "</div>"
      ],
      "text/plain": [
       "Empty DataFrame\n",
       "Columns: [metrics, values]\n",
       "Index: []"
      ]
     },
     "execution_count": 482,
     "metadata": {},
     "output_type": "execute_result"
    }
   ],
   "source": [
    "stats"
   ]
  },
  {
   "cell_type": "code",
   "execution_count": 240,
   "metadata": {},
   "outputs": [
    {
     "data": {
      "text/html": [
       "<div>\n",
       "<style scoped>\n",
       "    .dataframe tbody tr th:only-of-type {\n",
       "        vertical-align: middle;\n",
       "    }\n",
       "\n",
       "    .dataframe tbody tr th {\n",
       "        vertical-align: top;\n",
       "    }\n",
       "\n",
       "    .dataframe thead th {\n",
       "        text-align: right;\n",
       "    }\n",
       "</style>\n",
       "<table border=\"1\" class=\"dataframe\">\n",
       "  <thead>\n",
       "    <tr style=\"text-align: right;\">\n",
       "      <th>metrics</th>\n",
       "      <th>W</th>\n",
       "      <th>L</th>\n",
       "      <th>win_loss_perc</th>\n",
       "      <th>earned_run_avg</th>\n",
       "      <th>G</th>\n",
       "      <th>GS</th>\n",
       "      <th>GF</th>\n",
       "      <th>CG</th>\n",
       "      <th>SHO</th>\n",
       "      <th>SV</th>\n",
       "      <th>...</th>\n",
       "      <th>WP</th>\n",
       "      <th>batters_faced</th>\n",
       "      <th>earned_run_avg_plus</th>\n",
       "      <th>fip</th>\n",
       "      <th>whip</th>\n",
       "      <th>hits_per_nine</th>\n",
       "      <th>home_runs_per_nine</th>\n",
       "      <th>bases_on_balls_per_nine</th>\n",
       "      <th>strikeouts_per_nine</th>\n",
       "      <th>strikeouts_per_base_on_balls</th>\n",
       "    </tr>\n",
       "  </thead>\n",
       "  <tbody>\n",
       "    <tr>\n",
       "      <th>values</th>\n",
       "      <td>15</td>\n",
       "      <td>11</td>\n",
       "      <td>.568</td>\n",
       "      <td>4.12</td>\n",
       "      <td>34</td>\n",
       "      <td>34</td>\n",
       "      <td>0</td>\n",
       "      <td>2</td>\n",
       "      <td>1</td>\n",
       "      <td>0</td>\n",
       "      <td>...</td>\n",
       "      <td>3</td>\n",
       "      <td>892</td>\n",
       "      <td>106</td>\n",
       "      <td>4.15</td>\n",
       "      <td>1.312</td>\n",
       "      <td>9.3</td>\n",
       "      <td>1.1</td>\n",
       "      <td>2.5</td>\n",
       "      <td>6.6</td>\n",
       "      <td>2.67</td>\n",
       "    </tr>\n",
       "  </tbody>\n",
       "</table>\n",
       "<p>1 rows × 30 columns</p>\n",
       "</div>"
      ],
      "text/plain": [
       "metrics   W   L win_loss_perc earned_run_avg   G  GS GF CG SHO SV  ... WP  \\\n",
       "values   15  11          .568           4.12  34  34  0  2   1  0  ...  3   \n",
       "\n",
       "metrics batters_faced earned_run_avg_plus   fip   whip hits_per_nine  \\\n",
       "values            892                 106  4.15  1.312           9.3   \n",
       "\n",
       "metrics home_runs_per_nine bases_on_balls_per_nine strikeouts_per_nine  \\\n",
       "values                 1.1                     2.5                 6.6   \n",
       "\n",
       "metrics strikeouts_per_base_on_balls  \n",
       "values                          2.67  \n",
       "\n",
       "[1 rows x 30 columns]"
      ]
     },
     "execution_count": 240,
     "metadata": {},
     "output_type": "execute_result"
    }
   ],
   "source": [
    "metrics = []\n",
    "vals = []\n",
    "for row in range(len(page_content)):\n",
    "    metric = []\n",
    "    val = []\n",
    "    stat = []\n",
    "    metrics.append(page_content[row]['data-stat'])\n",
    "    vals.append(page_content[row].text)\n",
    "\n",
    "stats = pd.DataFrame({\n",
    "    'metrics': metrics,\n",
    "    'values': vals\n",
    "})\n",
    "\n",
    "stats.set_index('metrics').T"
   ]
  },
  {
   "cell_type": "markdown",
   "metadata": {},
   "source": []
  }
 ],
 "metadata": {
  "language_info": {
   "name": "python"
  },
  "orig_nbformat": 4
 },
 "nbformat": 4,
 "nbformat_minor": 2
}
