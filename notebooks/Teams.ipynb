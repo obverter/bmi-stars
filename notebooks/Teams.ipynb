{
 "cells": [
  {
   "cell_type": "code",
   "execution_count": 122,
   "metadata": {},
   "outputs": [],
   "source": [
    "## Let's try to figure out who the shortest, heaviest baseball players are.\n",
    "\n",
    "## Here's our overall plan of attack\n",
    "\n",
    "# Setting Things Up ✅\n",
    "## Import CSVs ✅\n",
    "### Separate CSVs --> DataFrames for People, Pitching Data, Batting Data ✅\n",
    "## Squish everything into one mondo DF ✅\n",
    "## Add Physical Data ✅\n",
    "### Height ✅\n",
    "### Weight ✅\n",
    "## Calculate BMI ✅\n",
    "### Convert Imperial to Metric ✅\n",
    "### BMI-ify ✅\n",
    "### Throw BMI back into df ✅\n",
    "## Assemble per-position lists sorted by BMI, then mWAR\n",
    "\n",
    "# Knocking Things Down\n",
    "## Find worst team that made playoffs in 2021\n",
    "### Describe team fWAR/bWAR\n",
    "### Describe individual fWAR/bWAR\n",
    "## Pull from BMI lists per position until high BMI roster is full\n",
    "### mWAR shall be higher on a team basis.\n",
    "### mWAR shall be higher per position.\n",
    "# If there's enough time:\n",
    "## Repeat for:\n",
    "### Tallness\n",
    "### Shortness\n",
    "### Heavy\n",
    "### Light\n",
    "\n",
    "# If there's enough time:\n",
    "## Repeat for:\n",
    "### Tallness\n",
    "### Shortness\n",
    "### Heavy\n",
    "### Light"
   ]
  },
  {
   "cell_type": "markdown",
   "metadata": {},
   "source": [
    "## Setting Things Up"
   ]
  },
  {
   "cell_type": "markdown",
   "metadata": {},
   "source": [
    "### Import the necessaries"
   ]
  },
  {
   "cell_type": "code",
   "execution_count": 123,
   "metadata": {},
   "outputs": [],
   "source": [
    "import numpy as np\n",
    "import pandas as pd\n",
    "import pybaseball\n",
    "import seaborn as sns\n",
    "import matplotlib.pyplot as plot\n",
    "from deepdiff import DeepDiff\n",
    "from pybaseball import bwar_pitch\n",
    "from pybaseball import bwar_bat\n",
    "from pybaseball import cache\n",
    "from pybaseball.lahman import *\n",
    "from pybaseball import chadwick_register\n",
    "\n",
    "pd.set_option(\"display.max_columns\", 1000)\n",
    "pd.set_option(\"display.max_rows\", 100)\n"
   ]
  },
  {
   "cell_type": "code",
   "execution_count": 124,
   "metadata": {},
   "outputs": [],
   "source": [
    "# Constants\n",
    "KG_TO_LB = 0.453592\n",
    "M_TO_IN = 0.0254"
   ]
  },
  {
   "cell_type": "code",
   "execution_count": 125,
   "metadata": {},
   "outputs": [],
   "source": [
    "chadwick = chadwick_register(save=True)\n",
    "chadwick = pd.DataFrame(chadwick)"
   ]
  },
  {
   "cell_type": "code",
   "execution_count": 126,
   "metadata": {},
   "outputs": [],
   "source": [
    "download_lahman()"
   ]
  },
  {
   "cell_type": "markdown",
   "metadata": {},
   "source": [
    "### Read infinity baseball data to DataFrames"
   ]
  },
  {
   "cell_type": "code",
   "execution_count": 127,
   "metadata": {},
   "outputs": [
    {
     "name": "stderr",
     "output_type": "stream",
     "text": [
      "/Users/bean/.pyenv/versions/3.10.3/lib/python3.10/site-packages/pybaseball/league_batting_stats.py:64: FutureWarning: In a future version of pandas all arguments of DataFrame.drop except for the argument 'labels' will be keyword-only.\n",
      "  table = table.drop('', 1)\n"
     ]
    }
   ],
   "source": [
    "# a table of all player biographical info and ids\n",
    "people = pd.DataFrame(people())\n",
    "\n",
    "# park id, name, alias, city, state, and country\n",
    "parks = pd.DataFrame(parks())\n",
    "\n",
    "# all star roster data: player, year, team, league, position\n",
    "allstar = pd.DataFrame(all_star_full())\n",
    "\n",
    "# each player's games played per position for each season\n",
    "appearances = pd.DataFrame(appearances())\n",
    "\n",
    "# batting stats by year, regular season\n",
    "batting = pd.DataFrame(batting())\n",
    "\n",
    "# batting stats by year, post season\n",
    "batting_post = pd.DataFrame(batting_post())\n",
    "\n",
    "# fielding stats by year \n",
    "fielding = pd.DataFrame(fielding())\n",
    "\n",
    "# games played in left, center, right field \n",
    "fielding_of = pd.DataFrame(fielding_of())\n",
    "\n",
    "# LF/CF/RF splits\n",
    "fielding_of_split = pd.DataFrame(fielding_of_split())\n",
    "\n",
    "# postseason fielding \n",
    "fielding_post = pd.DataFrame(fielding_post())\n",
    "\n",
    "# home game attendance by park by year \n",
    "home_games = pd.DataFrame(home_games())\n",
    "\n",
    "# historical player pitching stats\n",
    "pitching = pd.DataFrame(pitching())\n",
    "\n",
    "# postseason pitching stats\n",
    "pitching_post = pd.DataFrame(pitching_post())\n",
    "\n",
    "# playoff series winners and losers \n",
    "series_post = pd.DataFrame(series_post())\n",
    "\n",
    "# data on teams by year: record, division, stadium, attendance, etc\n",
    "teams = pd.DataFrame(teams())\n",
    "\n",
    "# current and historical franchises, whether they're still active, and their ids\n",
    "teams_franchises = pd.DataFrame(teams_franchises())\n",
    "\n",
    "# split season data for teams\n",
    "teams_half = pd.DataFrame(teams_half()) \n",
    "\n",
    "# fangraphs batting since 2008\n",
    "fangraphs_batting = pd.DataFrame(pybaseball.batting_stats_range(\n",
    "    start_dt=\"2008-01-01\", end_dt=\"2021-12-31\"))\n",
    "\n",
    "# fangraphs pitching since 2008\n",
    "fangraphs_pitching = pd.DataFrame(pybaseball.pitching_stats_range(\n",
    "    start_dt=\"2008-01-01\", end_dt=\"2021-12-31\"))\n",
    "\n",
    "# fangraphs team pitching since 2008\n",
    "fangraphs_team_pitching = pd.DataFrame(\n",
    "    pybaseball.team_pitching(start_season=\"2008\", end_season=\"2021\"))\n",
    "\n",
    "# fangraphs team batting since 2008\n",
    "fangraphs_team_batting = pd.DataFrame(\n",
    "    pybaseball.team_batting(start_season=\"2008\", end_season=\"2021\"))\n",
    "\n",
    "# fangraphs team fielding since 2008\n",
    "fangraphs_team_fielding = pd.DataFrame(\n",
    "    pybaseball.team_fielding(start_season=\"2008\", end_season=\"2021\"))\n",
    "\n",
    "# bref pitching WAR\n",
    "bwar_pitch = pd.DataFrame(bwar_pitch(return_all=True))\n",
    "\n",
    "# bref batting WAR\n",
    "bwar_bat = pd.DataFrame(bwar_bat(return_all=True))\n"
   ]
  },
  {
   "cell_type": "markdown",
   "metadata": {},
   "source": [
    "----"
   ]
  },
  {
   "cell_type": "markdown",
   "metadata": {},
   "source": [
    "### Add BMI Calcs"
   ]
  },
  {
   "cell_type": "code",
   "execution_count": 128,
   "metadata": {},
   "outputs": [],
   "source": [
    "# BMI Calculations\n",
    "people['KG'] = people['weight'] * KG_TO_LB\n",
    "people['meters'] = people['height'] * M_TO_IN\n",
    "people['BMI'] = people['KG'] / people['meters'] ** 2\n",
    "people['ratio'] = people['meters'] * people['BMI']\n"
   ]
  },
  {
   "cell_type": "markdown",
   "metadata": {},
   "source": [
    "----"
   ]
  },
  {
   "cell_type": "markdown",
   "metadata": {},
   "source": [
    "# Historical Team Histories"
   ]
  },
  {
   "cell_type": "markdown",
   "metadata": {},
   "source": [
    "Let's get our team data together so we can figure out:\n",
    "1. The worst team each year\n",
    "2. The best team each year\n",
    "3. The best team that didn't make the playoffs each year"
   ]
  },
  {
   "cell_type": "markdown",
   "metadata": {},
   "source": [
    "### Team Prep"
   ]
  },
  {
   "cell_type": "code",
   "execution_count": null,
   "metadata": {},
   "outputs": [],
   "source": [
    "teams.sample(10)"
   ]
  },
  {
   "cell_type": "markdown",
   "metadata": {},
   "source": [
    "Let's work off of copies and leave our source DataFrames in one place so that we have a home to which we may tearfully return."
   ]
  },
  {
   "cell_type": "code",
   "execution_count": null,
   "metadata": {},
   "outputs": [],
   "source": [
    "series_post_sorted = series_post"
   ]
  },
  {
   "cell_type": "code",
   "execution_count": null,
   "metadata": {},
   "outputs": [],
   "source": [
    "series_post_sorted.columns"
   ]
  },
  {
   "cell_type": "code",
   "execution_count": null,
   "metadata": {},
   "outputs": [],
   "source": [
    "df_teams = teams"
   ]
  },
  {
   "cell_type": "markdown",
   "metadata": {},
   "source": [
    "#### Add Differentials, Which Should've Been Here in the First Place"
   ]
  },
  {
   "cell_type": "markdown",
   "metadata": {},
   "source": [
    "Let's add some differential metrics that might be useful. In Pythonglish, this is what we're doing:\n",
    "```python\n",
    "for Runs, Strikeouts, Walks, Home Runs, Hits in team_stats:\n",
    "    df_teams['StatDiff'] = df_teams['Team_Stat'] - df_teams['Opponent_stat']\n",
    "```"
   ]
  },
  {
   "cell_type": "code",
   "execution_count": null,
   "metadata": {},
   "outputs": [],
   "source": [
    "df_teams['RDiff'] = df_teams['R'] - df_teams['RA']\n",
    "df_teams['SODiff'] = df_teams['SO'] - df_teams['SOA']\n",
    "df_teams['BBDiff'] = df_teams['BB'] - df_teams['BBA']\n",
    "df_teams['HRDiff'] = df_teams['HR'] - df_teams['HRA']\n",
    "df_teams['HDiff'] = df_teams['H'] - df_teams['HA']"
   ]
  },
  {
   "cell_type": "markdown",
   "metadata": {},
   "source": [
    "#### Add Winning Percentage"
   ]
  },
  {
   "cell_type": "markdown",
   "metadata": {},
   "source": [
    "Let's also give ourselves a winning percentage column, because baseball seasons haven't always been the same length."
   ]
  },
  {
   "cell_type": "code",
   "execution_count": null,
   "metadata": {},
   "outputs": [],
   "source": [
    "df_teams['WP'] = df_teams['W'] / (df_teams['L'] + df_teams['W'])"
   ]
  },
  {
   "cell_type": "markdown",
   "metadata": {},
   "source": [
    "## Locating the First Losers"
   ]
  },
  {
   "cell_type": "markdown",
   "metadata": {},
   "source": [
    "Now let's find the best team in each year that didn't make the playoffs and add it to a 'first_losers' DataFrame"
   ]
  },
  {
   "cell_type": "markdown",
   "metadata": {},
   "source": [
    "First, let's make two dicts — one for playoff winners and one for playoff losers — which serves to identify any team that made the playoffs. After some cleaning, the inverse of our by-year dict will comprise the teams that didn't make the playoffs.\n",
    "\n",
    "We want to end up with something that looks like this:\n",
    "\n",
    "```python\n",
    "history = {\n",
    "    1871: ['playoff teams'],\n",
    "    1872: ['playoff teams'],\n",
    "    [...]\n",
    "    2021: ['playoff teams']\n",
    "}\n",
    "```"
   ]
  },
  {
   "cell_type": "code",
   "execution_count": null,
   "metadata": {},
   "outputs": [],
   "source": [
    "all_teams = {k: list(v) for k, v in teams.groupby('yearID')['teamID']}\n",
    "playoff_winners = {k: list(v) for k, v in series_post_sorted.groupby('yearID')['teamIDwinner']}\n",
    "playoff_losers = {k: list(v) for k, v in series_post_sorted.groupby('yearID')['teamIDloser']}\n"
   ]
  },
  {
   "cell_type": "markdown",
   "metadata": {},
   "source": [
    "Let's make a little algo to jury-rig ourselves a little .unique() function"
   ]
  },
  {
   "cell_type": "code",
   "execution_count": null,
   "metadata": {},
   "outputs": [],
   "source": [
    "def unique(playoff_teams):\n",
    "    x = np.array(playoff_teams)\n",
    "    return np.unique(x)\n"
   ]
  },
  {
   "cell_type": "markdown",
   "metadata": {},
   "source": [
    "### It's Loopin' Time\n",
    "Now let's make a loop that zooms over our entire table to generate each year's list of playoff teams"
   ]
  },
  {
   "cell_type": "code",
   "execution_count": null,
   "metadata": {},
   "outputs": [],
   "source": [
    "history = {}\n",
    "for year in range(1871, 2022):\n",
    "    try:\n",
    "        playoff_teams = playoff_winners[year] + playoff_losers[year]\n",
    "        playoff_teams = unique(playoff_teams)\n",
    "        year = {\n",
    "            year: list(playoff_teams)\n",
    "        }\n",
    "        print('---')\n",
    "        print(year)\n",
    "        history.update(year)\n",
    "    except:\n",
    "        print('---')\n",
    "        print(year)\n",
    "        print(\"There weren't any playoffs this year.\")"
   ]
  },
  {
   "cell_type": "markdown",
   "metadata": {},
   "source": [
    "## Next we're going to add a bool column to our monster team dataframe where TRUE = made playoffs and FALSE = missed playoffs."
   ]
  },
  {
   "cell_type": "code",
   "execution_count": null,
   "metadata": {},
   "outputs": [],
   "source": [
    "df_teams = teams"
   ]
  },
  {
   "cell_type": "code",
   "execution_count": null,
   "metadata": {},
   "outputs": [],
   "source": [
    "df_teams.groupby(['yearID']).teamID.unique()"
   ]
  },
  {
   "cell_type": "markdown",
   "metadata": {},
   "source": [
    "I want to get the teamID from each row in df_teams and check whether it's in df_teams.groupby(['yearID']).teamID.unique()"
   ]
  },
  {
   "cell_type": "code",
   "execution_count": null,
   "metadata": {},
   "outputs": [],
   "source": [
    "for team in df_teams.groupby(['yearID']):\n",
    "    season = df_teams.yearID\n",
    "    df_teams['playoff_teams'] = dict(df_teams[df_teams[\"yearID\"] == season].teamID)\n"
   ]
  },
  {
   "cell_type": "code",
   "execution_count": null,
   "metadata": {},
   "outputs": [],
   "source": [
    "for team in df_teams.groupby(['yearID']):\n",
    "    season = df_teams.yearID\n",
    "    df_teams.insert(5, \"playoff_teams\", list(\n",
    "        df_teams[df_teams[\"yearID\"] == season].teamID), True)\n"
   ]
  },
  {
   "cell_type": "code",
   "execution_count": null,
   "metadata": {},
   "outputs": [],
   "source": [
    "for team in range(len(df_teams)):\n",
    "    team_season = df_teams.yearID\n",
    "    try:\n",
    "        if df_teams.loc[team]['teamID'] in list(df_teams[df_teams[\"yearID\"] == team_season].teamID):\n",
    "            df_teams['playoffs'] == 1\n",
    "            print('- - -')\n",
    "            print(f'{df_teams.iloc[team].yearID} : {df_teams.iloc[team].teamID}')\n",
    "            print('Pass')\n",
    "        else:\n",
    "            df_teams['playoffs'] == 0\n",
    "            print(f'{df_teams.iloc[team].yearID} : {df_teams.iloc[team].teamID}')\n",
    "            print(\"- - -\")\n",
    "            print(\"Pass\")\n",
    "    except:\n",
    "        print(\"- - -\")\n",
    "        print(f'{df_teams.iloc[team].yearID} : {df_teams.iloc[team].teamID}')\n",
    "        print(\"Exception\")\n"
   ]
  },
  {
   "cell_type": "code",
   "execution_count": null,
   "metadata": {},
   "outputs": [],
   "source": [
    "df_teams.sample(1)"
   ]
  },
  {
   "cell_type": "code",
   "execution_count": null,
   "metadata": {},
   "outputs": [],
   "source": [
    "history.items()"
   ]
  },
  {
   "cell_type": "code",
   "execution_count": null,
   "metadata": {},
   "outputs": [],
   "source": [
    "conditions = [\n",
    "    df_teams.loc[0].teamID\n",
    "    in list(df_teams[df_teams[\"yearID\"] == 1871].teamID)  # ! DING DING DING\n",
    "]\n",
    "values = [True]\n",
    "\n",
    "df_teams['made_playoffs']"
   ]
  },
  {
   "cell_type": "code",
   "execution_count": null,
   "metadata": {},
   "outputs": [],
   "source": [
    "df_teams.loc[df_teams['teamID'] in list(df_teams[df_teams['yearID'] == 1871].teamID), 'made_playoffs'] == True"
   ]
  },
  {
   "cell_type": "code",
   "execution_count": null,
   "metadata": {},
   "outputs": [],
   "source": [
    "df_teams.loc[0].teamID in list(df_teams[df_teams['yearID'] == 1871].teamID) # ! DING DING DING"
   ]
  },
  {
   "cell_type": "code",
   "execution_count": null,
   "metadata": {},
   "outputs": [],
   "source": [
    "if df_teams.loc[2980].teamID in list(history[2021]):# ! DING DING DING"
   ]
  },
  {
   "cell_type": "code",
   "execution_count": null,
   "metadata": {},
   "outputs": [],
   "source": []
  },
  {
   "cell_type": "code",
   "execution_count": null,
   "metadata": {},
   "outputs": [],
   "source": [
    "df_teams"
   ]
  },
  {
   "cell_type": "code",
   "execution_count": null,
   "metadata": {},
   "outputs": [],
   "source": [
    "season = 1871\n",
    "for team in range(len(df_teams)):\n",
    "    try:\n",
    "        if df_teams.iloc[team].teamID in list(df_teams[df_teams['yearID'] == season].teamID):\n",
    "            print('- - -')\n",
    "            print(f'{df_teams.iloc[team].yearID} + {df_teams.iloc[team].yearID}')\n",
    "            print('Pass')\n",
    "            df_teams['playoffs'] == 1\n",
    "        else:\n",
    "            df_teams['playoffs'] == 0\n",
    "            print(\"- - -\")\n",
    "            print(\"Pass\")\n",
    "    except:\n",
    "        print(\"- - -\")\n",
    "        print(\"Exception\")\n",
    "    season += 1\n"
   ]
  },
  {
   "cell_type": "code",
   "execution_count": null,
   "metadata": {},
   "outputs": [],
   "source": [
    "season = 1871\n",
    "for team in range(1871, 2022):\n",
    "    try:\n",
    "        if df_teams[df_teams[season]].teamID in df_teams.groupby(['yearID']).teamID.unique():\n",
    "            df_teams['playoffs'] == True\n",
    "        else:\n",
    "            df_teams['playoffs'] == False\n",
    "            print(\"- - -\")\n",
    "            print(season)\n",
    "            print(\"Pass\")\n",
    "    except:\n",
    "        print(\"- - -\")\n",
    "        print(season)\n",
    "        print(\"Exception\")\n",
    "season += 1\n"
   ]
  },
  {
   "cell_type": "code",
   "execution_count": null,
   "metadata": {},
   "outputs": [],
   "source": [
    "season = 1871\n",
    "for team in df_teams:\n",
    "    try:\n",
    "        if df_teams['teamID'] in history[season]:\n",
    "            df_teams['playoffs'] == True\n",
    "        else: df_teams['playoffs'] == False\n",
    "        print(\"- - -\")\n",
    "        print(season)\n",
    "        print(\"Pass\")\n",
    "    except:\n",
    "        print(\"- - -\")\n",
    "        print(season)\n",
    "        print(\"Exception\")\n",
    "    season += 1"
   ]
  },
  {
   "cell_type": "code",
   "execution_count": null,
   "metadata": {},
   "outputs": [],
   "source": [
    "df_teams['playoffs']"
   ]
  },
  {
   "cell_type": "markdown",
   "metadata": {},
   "source": [
    "----"
   ]
  },
  {
   "cell_type": "markdown",
   "metadata": {},
   "source": [
    "### Erafying Things. For Posterity."
   ]
  },
  {
   "cell_type": "markdown",
   "metadata": {},
   "source": [
    "Let's split our teams into temporal eras. There are four major eras in baseball history. Or rather, two gigantic ones — the latter of which has three distinct sub-areas. "
   ]
  },
  {
   "cell_type": "code",
   "execution_count": null,
   "metadata": {},
   "outputs": [],
   "source": [
    "deadball_era = df_teams.mask(df_teams['yearID'] <= 1920)\n",
    "liveball_era = df_teams.mask(df_teams['yearID'] > 1920)"
   ]
  },
  {
   "cell_type": "code",
   "execution_count": null,
   "metadata": {},
   "outputs": [],
   "source": [
    "liveball = deadball_era.dropna(axis=0, how='all')\n",
    "liveball"
   ]
  },
  {
   "cell_type": "code",
   "execution_count": null,
   "metadata": {},
   "outputs": [],
   "source": [
    "deadball = liveball_era.dropna(axis=0, how='all')\n",
    "deadball"
   ]
  },
  {
   "cell_type": "markdown",
   "metadata": {},
   "source": [
    "Now let's split the live-ball era into groups of its three main playoff structures: No divisions, Divisions, and Divisions with a Wildcard round."
   ]
  },
  {
   "cell_type": "code",
   "execution_count": null,
   "metadata": {},
   "outputs": [],
   "source": [
    "league_era = liveball[(liveball['LgWin'].notna()) & (liveball['DivWin'].isna())]\n",
    "division_era = liveball[(liveball['LgWin'].notna()) & (liveball['DivWin'].notna()) & (liveball['WCWin'].isna())]\n",
    "wildcard_era = liveball[(liveball['LgWin'].notna()) & (liveball['DivWin'].notna()) & (liveball['WCWin'].notna())]\n"
   ]
  },
  {
   "cell_type": "markdown",
   "metadata": {},
   "source": [
    "----"
   ]
  },
  {
   "cell_type": "markdown",
   "metadata": {},
   "source": [
    "### Meet the First Losers. And Their Friends."
   ]
  },
  {
   "cell_type": "code",
   "execution_count": null,
   "metadata": {},
   "outputs": [],
   "source": [
    "league_era['yearID']"
   ]
  },
  {
   "cell_type": "code",
   "execution_count": null,
   "metadata": {},
   "outputs": [],
   "source": [
    "history[2012]  #EVERYTHING WORKS TO HERE"
   ]
  },
  {
   "cell_type": "code",
   "execution_count": null,
   "metadata": {},
   "outputs": [],
   "source": [
    "teams.sample(20)"
   ]
  },
  {
   "cell_type": "code",
   "execution_count": null,
   "metadata": {},
   "outputs": [],
   "source": [
    "losers = {}\n",
    "season = 2012\n",
    "for year in league_era['yearID']:\n",
    "    try:\n",
    "        playoff_teams = history[season]\n",
    "        print('---')\n",
    "        print(season)\n",
    "        print('in')\n",
    "        print(playoff_teams)\n",
    "        league_era[league_era[\"yearID\"] == season]\n",
    "        playoff_missers = {\n",
    "            season: league_era[~league_era[\"teamID\"].isin(playoff_teams)]\n",
    "        }\n",
    "        print('out')\n",
    "        print(playoff_missers.values())\n",
    "        # losers.update(playoff_missers)\n",
    "    except:\n",
    "        pass\n",
    "    season += 1"
   ]
  },
  {
   "cell_type": "code",
   "execution_count": null,
   "metadata": {},
   "outputs": [],
   "source": [
    "losers.keys()"
   ]
  },
  {
   "cell_type": "code",
   "execution_count": null,
   "metadata": {},
   "outputs": [],
   "source": [
    "league_era.merge(pd.DataFrame([{'yearID': k, 'year': i} for k, v in history.items() for i in v]))"
   ]
  },
  {
   "cell_type": "code",
   "execution_count": null,
   "metadata": {},
   "outputs": [],
   "source": [
    "print(list(df.columns))"
   ]
  },
  {
   "cell_type": "code",
   "execution_count": null,
   "metadata": {},
   "outputs": [],
   "source": []
  },
  {
   "cell_type": "code",
   "execution_count": null,
   "metadata": {},
   "outputs": [],
   "source": []
  },
  {
   "cell_type": "code",
   "execution_count": null,
   "metadata": {},
   "outputs": [],
   "source": []
  },
  {
   "cell_type": "code",
   "execution_count": null,
   "metadata": {},
   "outputs": [],
   "source": [
    "wildcard_era_first_losers = wildcard_era.merge(series_post_sorted, left_on='teamIDBR', right_on='teamIDloser')\n",
    "wildcard_era_first_losers = wildcard_era_first_losers.merge(series_post_sorted, left_on='teamIDBR', right_on='teamIDwinner')"
   ]
  },
  {
   "cell_type": "code",
   "execution_count": null,
   "metadata": {},
   "outputs": [],
   "source": [
    "df_teams = df_teams.set_index(['yearID', 'lgID', 'divID'])"
   ]
  },
  {
   "cell_type": "markdown",
   "metadata": {},
   "source": [
    "### Meet the Wonkaville Huskies"
   ]
  },
  {
   "cell_type": "code",
   "execution_count": null,
   "metadata": {},
   "outputs": [],
   "source": []
  },
  {
   "cell_type": "code",
   "execution_count": null,
   "metadata": {},
   "outputs": [],
   "source": [
    "df_huskies = pd.merge(df_huskiesBatters, df_huskiesPitchers, how='right', on='playerID')"
   ]
  },
  {
   "cell_type": "code",
   "execution_count": null,
   "metadata": {},
   "outputs": [],
   "source": [
    "df_huskies.columns"
   ]
  },
  {
   "cell_type": "code",
   "execution_count": null,
   "metadata": {},
   "outputs": [],
   "source": []
  },
  {
   "cell_type": "code",
   "execution_count": null,
   "metadata": {},
   "outputs": [],
   "source": [
    "sns.jointplot(data=df_simple, x=\"height\", y=\"weight\", kind = \"reg\", truncate = False)"
   ]
  },
  {
   "cell_type": "code",
   "execution_count": null,
   "metadata": {},
   "outputs": [],
   "source": [
    "sns.choose_diverging_palette()"
   ]
  },
  {
   "cell_type": "code",
   "execution_count": null,
   "metadata": {},
   "outputs": [],
   "source": [
    "\n",
    "# Compute the correlation matrix\n",
    "corr = df_huskiesBatters.corr(method=\"spearman\")\n",
    "\n",
    "# Generate a mask for the upper triangle\n",
    "mask = np.triu(np.ones_like(corr, dtype=bool))\n",
    "\n",
    "# Set up the matplotlib figure\n",
    "f, ax = plt.subplots(figsize=(11, 9))\n",
    "\n",
    "# Generate a custom diverging colormap\n",
    "cmap = sns.diverging_palette(290, 10, n=40, as_cmap=True)\n",
    "\n",
    "# Draw the heatmap with the mask and correct aspect ratio\n",
    "sns.heatmap(\n",
    "    corr,\n",
    "    mask=mask,\n",
    "    cmap=cmap,\n",
    "    vmax=1,\n",
    "    center=0,\n",
    "    square=True,\n",
    "    linewidths=0.25,\n",
    "    cbar_kws={\"shrink\": .5},\n",
    ")\n",
    "\n"
   ]
  },
  {
   "cell_type": "code",
   "execution_count": null,
   "metadata": {},
   "outputs": [],
   "source": [
    "corr_mat = df.corr().stack().reset_index(name=\"correlation\")"
   ]
  },
  {
   "cell_type": "markdown",
   "metadata": {},
   "source": [
    "##### Old"
   ]
  }
 ],
 "metadata": {
  "kernelspec": {
   "display_name": "Python 3.10.3 64-bit ('3.10.3')",
   "language": "python",
   "name": "python3"
  },
  "language_info": {
   "codemirror_mode": {
    "name": "ipython",
    "version": 3
   },
   "file_extension": ".py",
   "mimetype": "text/x-python",
   "name": "python",
   "nbconvert_exporter": "python",
   "pygments_lexer": "ipython3",
   "version": "3.10.3"
  },
  "orig_nbformat": 4,
  "vscode": {
   "interpreter": {
    "hash": "10626171d4353dd8d0f12b0dae77464b904fee8f635bb045a55f368206a04bde"
   }
  }
 },
 "nbformat": 4,
 "nbformat_minor": 2
}
